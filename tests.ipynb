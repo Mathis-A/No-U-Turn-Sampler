{
 "cells": [
  {
   "cell_type": "code",
   "execution_count": 1,
   "metadata": {},
   "outputs": [],
   "source": [
    "import pandas as pd\n",
    "import io\n",
    "import numpy as np\n",
    "import pymc3 as pm\n",
    "\n",
    "from sklearn.preprocessing import StandardScaler\n"
   ]
  },
  {
   "cell_type": "code",
   "execution_count": 2,
   "metadata": {},
   "outputs": [],
   "source": [
    "with open('german.data', 'r') as f:\n",
    "    data_str = f.read()\n"
   ]
  },
  {
   "cell_type": "code",
   "execution_count": 3,
   "metadata": {},
   "outputs": [
    {
     "data": {
      "text/html": [
       "<div>\n",
       "<style scoped>\n",
       "    .dataframe tbody tr th:only-of-type {\n",
       "        vertical-align: middle;\n",
       "    }\n",
       "\n",
       "    .dataframe tbody tr th {\n",
       "        vertical-align: top;\n",
       "    }\n",
       "\n",
       "    .dataframe thead th {\n",
       "        text-align: right;\n",
       "    }\n",
       "</style>\n",
       "<table border=\"1\" class=\"dataframe\">\n",
       "  <thead>\n",
       "    <tr style=\"text-align: right;\">\n",
       "      <th></th>\n",
       "      <th>status</th>\n",
       "      <th>months</th>\n",
       "      <th>credit</th>\n",
       "      <th>purpose</th>\n",
       "      <th>amount</th>\n",
       "      <th>savings</th>\n",
       "      <th>employment</th>\n",
       "      <th>rate</th>\n",
       "      <th>sex</th>\n",
       "      <th>other</th>\n",
       "      <th>...</th>\n",
       "      <th>property</th>\n",
       "      <th>age</th>\n",
       "      <th>plan</th>\n",
       "      <th>housing</th>\n",
       "      <th>nb_credits</th>\n",
       "      <th>job</th>\n",
       "      <th>liability</th>\n",
       "      <th>phone</th>\n",
       "      <th>foreign</th>\n",
       "      <th>target</th>\n",
       "    </tr>\n",
       "  </thead>\n",
       "  <tbody>\n",
       "    <tr>\n",
       "      <th>0</th>\n",
       "      <td>0</td>\n",
       "      <td>-1.235859</td>\n",
       "      <td>4</td>\n",
       "      <td>4</td>\n",
       "      <td>-0.744759</td>\n",
       "      <td>4</td>\n",
       "      <td>4</td>\n",
       "      <td>0.918018</td>\n",
       "      <td>2</td>\n",
       "      <td>0</td>\n",
       "      <td>...</td>\n",
       "      <td>0</td>\n",
       "      <td>2.765073</td>\n",
       "      <td>2</td>\n",
       "      <td>1</td>\n",
       "      <td>1.026565</td>\n",
       "      <td>2</td>\n",
       "      <td>-0.428075</td>\n",
       "      <td>1</td>\n",
       "      <td>0</td>\n",
       "      <td>0</td>\n",
       "    </tr>\n",
       "    <tr>\n",
       "      <th>1</th>\n",
       "      <td>1</td>\n",
       "      <td>2.247070</td>\n",
       "      <td>2</td>\n",
       "      <td>4</td>\n",
       "      <td>0.949342</td>\n",
       "      <td>0</td>\n",
       "      <td>2</td>\n",
       "      <td>-0.869748</td>\n",
       "      <td>1</td>\n",
       "      <td>0</td>\n",
       "      <td>...</td>\n",
       "      <td>0</td>\n",
       "      <td>-1.190808</td>\n",
       "      <td>2</td>\n",
       "      <td>1</td>\n",
       "      <td>-0.704573</td>\n",
       "      <td>2</td>\n",
       "      <td>-0.428075</td>\n",
       "      <td>0</td>\n",
       "      <td>0</td>\n",
       "      <td>1</td>\n",
       "    </tr>\n",
       "    <tr>\n",
       "      <th>2</th>\n",
       "      <td>3</td>\n",
       "      <td>-0.738298</td>\n",
       "      <td>4</td>\n",
       "      <td>7</td>\n",
       "      <td>-0.416354</td>\n",
       "      <td>0</td>\n",
       "      <td>3</td>\n",
       "      <td>-0.869748</td>\n",
       "      <td>2</td>\n",
       "      <td>0</td>\n",
       "      <td>...</td>\n",
       "      <td>0</td>\n",
       "      <td>1.182721</td>\n",
       "      <td>2</td>\n",
       "      <td>1</td>\n",
       "      <td>-0.704573</td>\n",
       "      <td>1</td>\n",
       "      <td>2.333701</td>\n",
       "      <td>0</td>\n",
       "      <td>0</td>\n",
       "      <td>0</td>\n",
       "    </tr>\n",
       "    <tr>\n",
       "      <th>3</th>\n",
       "      <td>0</td>\n",
       "      <td>1.749509</td>\n",
       "      <td>2</td>\n",
       "      <td>3</td>\n",
       "      <td>1.633430</td>\n",
       "      <td>0</td>\n",
       "      <td>3</td>\n",
       "      <td>-0.869748</td>\n",
       "      <td>2</td>\n",
       "      <td>2</td>\n",
       "      <td>...</td>\n",
       "      <td>1</td>\n",
       "      <td>0.831087</td>\n",
       "      <td>2</td>\n",
       "      <td>2</td>\n",
       "      <td>-0.704573</td>\n",
       "      <td>2</td>\n",
       "      <td>2.333701</td>\n",
       "      <td>0</td>\n",
       "      <td>0</td>\n",
       "      <td>0</td>\n",
       "    </tr>\n",
       "    <tr>\n",
       "      <th>4</th>\n",
       "      <td>0</td>\n",
       "      <td>0.256825</td>\n",
       "      <td>3</td>\n",
       "      <td>0</td>\n",
       "      <td>0.566380</td>\n",
       "      <td>0</td>\n",
       "      <td>2</td>\n",
       "      <td>0.024135</td>\n",
       "      <td>2</td>\n",
       "      <td>0</td>\n",
       "      <td>...</td>\n",
       "      <td>3</td>\n",
       "      <td>1.534354</td>\n",
       "      <td>2</td>\n",
       "      <td>2</td>\n",
       "      <td>1.026565</td>\n",
       "      <td>2</td>\n",
       "      <td>2.333701</td>\n",
       "      <td>0</td>\n",
       "      <td>0</td>\n",
       "      <td>1</td>\n",
       "    </tr>\n",
       "  </tbody>\n",
       "</table>\n",
       "<p>5 rows × 21 columns</p>\n",
       "</div>"
      ],
      "text/plain": [
       "   status    months  credit  purpose    amount  savings  employment      rate  \\\n",
       "0       0 -1.235859       4        4 -0.744759        4           4  0.918018   \n",
       "1       1  2.247070       2        4  0.949342        0           2 -0.869748   \n",
       "2       3 -0.738298       4        7 -0.416354        0           3 -0.869748   \n",
       "3       0  1.749509       2        3  1.633430        0           3 -0.869748   \n",
       "4       0  0.256825       3        0  0.566380        0           2  0.024135   \n",
       "\n",
       "   sex  other  ...  property       age  plan  housing  nb_credits  job  \\\n",
       "0    2      0  ...         0  2.765073     2        1    1.026565    2   \n",
       "1    1      0  ...         0 -1.190808     2        1   -0.704573    2   \n",
       "2    2      0  ...         0  1.182721     2        1   -0.704573    1   \n",
       "3    2      2  ...         1  0.831087     2        2   -0.704573    2   \n",
       "4    2      0  ...         3  1.534354     2        2    1.026565    2   \n",
       "\n",
       "   liability  phone  foreign  target  \n",
       "0  -0.428075      1        0       0  \n",
       "1  -0.428075      0        0       1  \n",
       "2   2.333701      0        0       0  \n",
       "3   2.333701      0        0       0  \n",
       "4   2.333701      0        0       1  \n",
       "\n",
       "[5 rows x 21 columns]"
      ]
     },
     "execution_count": 3,
     "metadata": {},
     "output_type": "execute_result"
    }
   ],
   "source": [
    "# reading file \n",
    "data = io.StringIO(data_str)\n",
    "df = pd.read_csv(data,sep=' ', header=None)\n",
    "df.columns = ['status', 'months', 'credit', 'purpose', 'amount', 'savings', 'employment', 'rate', 'sex', 'other', 'residence',\n",
    "            'property', 'age', 'plan', 'housing', 'nb_credits', 'job', 'liability', 'phone', 'foreign', 'target']\n",
    "df.loc[df['target']==1, 'target'] =0\n",
    "df.loc[df['target']==2, 'target'] =1\n",
    "\n",
    "# replace categories by integers\n",
    "std_scaler = StandardScaler()\n",
    "\n",
    "for c in df.columns[:-1]:\n",
    "    if df[c].dtype != np.int64:\n",
    "        # convert to categorical\n",
    "        df[c] = df[c].astype('category').cat.codes\n",
    "    else:\n",
    "        # normalize\n",
    "        df[c] = (df[c] -df[c].mean())/df[c].std()\n",
    "\n",
    "df.head()"
   ]
  },
  {
   "cell_type": "code",
   "execution_count": 5,
   "metadata": {},
   "outputs": [
    {
     "data": {
      "text/plain": [
       "(1000, 20)"
      ]
     },
     "execution_count": 5,
     "metadata": {},
     "output_type": "execute_result"
    }
   ],
   "source": [
    "df.iloc[:,:-1].shape"
   ]
  },
  {
   "cell_type": "code",
   "execution_count": 6,
   "metadata": {},
   "outputs": [
    {
     "data": {
      "text/plain": [
       "Index(['status', 'months', 'credit', 'purpose', 'amount', 'savings',\n",
       "       'employment', 'rate', 'sex', 'other', 'residence', 'property', 'age',\n",
       "       'plan', 'housing', 'nb_credits', 'job', 'liability', 'phone', 'foreign',\n",
       "       'target'],\n",
       "      dtype='object')"
      ]
     },
     "execution_count": 6,
     "metadata": {},
     "output_type": "execute_result"
    }
   ],
   "source": [
    "df.columns"
   ]
  },
  {
   "attachments": {},
   "cell_type": "markdown",
   "metadata": {},
   "source": [
    "Here $Y_i$ is a discrete RV that can take two values 0 and 1. Thus the Bernouilli probability model is the best candidate for the data. If we note $\\pi_i$ the probability of accepting the credit for an individual $i$, \n",
    "    $$Y_i|\\pi_i \\sim Bern(\\pi_i)$$\n",
    "    and the expected value is:\n",
    "    $$E(Y_i|\\pi_i)=\\pi$$\n",
    "\n",
    "Finally we can define a linear model where $X_i \\in \\mathbb{R}^d$ describes the features of an individual $i$ with, $\\alpha \\in \\mathbb{R}$, the intercept and $\\beta \\in \\mathbb{R}^d$ the vector of coefficients:\n",
    "$$g(\\pi_i) = \\alpha + \\beta X_i$$\n",
    "Now our goal is to write the Bernouilli mean $\\pi_i$ as a linear function of $\\alpha, \\beta$. We can assume $\\pi_i$ depends on the features $X_i$ through the logit function.  Hence :\n",
    "$$\\frac{\\pi_i}{1 - \\pi_i} = e^{\\alpha + \\beta X_i}$$ \n",
    "and\n",
    "$$\\pi_i = \\frac{e^{\\alpha + \\beta X_i}}{1 + e^{\\alpha + \\beta X_i}}$$\n",
    "\n",
    "To complete the Bayesian logistic regression model we need to specify priors on our regression parameters. Here we use zero-mean normal priors with variance $\\sigma^2 = 100$. This is a weak prior because a large variance specifies little information about the parameter. \n",
    "\n",
    "We can now use an MCMC method to approximate the posterior.\n"
   ]
  },
  {
   "cell_type": "code",
   "execution_count": 74,
   "metadata": {},
   "outputs": [],
   "source": [
    "# initialise using MLE \n",
    "from sklearn.linear_model import LogisticRegression\n",
    "X, y = df.iloc[:,:-1], df.iloc[:,-1]\n",
    "X, y = X.to_numpy(), y.to_numpy()\n",
    "\n",
    "lr = LogisticRegression()\n",
    "lr.fit(X,y)\n",
    "alpha = lr.intercept_\n",
    "betas = lr.coef_\n",
    "\n",
    "coefs = np.empty((21))\n",
    "coefs[0] = alpha\n",
    "coefs[1:]=betas\n",
    "\n",
    "# add column of ones to make computation ez \n",
    "X = np.hstack((np.ones((1000,1)), X))\n",
    "\n"
   ]
  },
  {
   "cell_type": "code",
   "execution_count": 91,
   "metadata": {},
   "outputs": [],
   "source": [
    "# sample \n",
    "# weak prior and they all have the sample \n",
    "mu = 0\n",
    "var = 100\n",
    "def log_posterior_param(X, y, betas, mu, var):\n",
    "    # likelihood x prior\n",
    "    # we append to X a column of ones at the beginning\n",
    "    prob = np.exp(betas@X.T) / (1 + np.exp(betas@X.T) )\n",
    "    like = np.sum(y * np.log(prob) + (1-y) * np.log(1-prob))\n",
    "    prior = np.sum(np.log(1/np.sqrt(2*np.pi*var)) - 0.5 * ((betas -mu)**2 / var))\n",
    "    return like + prior \n",
    "\n",
    "\n",
    "def log_posterior(betas):\n",
    "    print(glog_posterior_param(X, y, betas, mu, var)))\n",
    "    return log_posterior_param(X, y, betas, mu, var)\n",
    "\n",
    "def grad_logp(betas):\n",
    "    print('making call')\n",
    "    return grad(log_posterior(betas))\n",
    "\n",
    "\n"
   ]
  },
  {
   "cell_type": "code",
   "execution_count": 68,
   "metadata": {},
   "outputs": [
    {
     "data": {
      "text/plain": [
       "(1, 21)"
      ]
     },
     "execution_count": 68,
     "metadata": {},
     "output_type": "execute_result"
    }
   ],
   "source": [
    "coefs.shape"
   ]
  },
  {
   "cell_type": "code",
   "execution_count": 71,
   "metadata": {},
   "outputs": [
    {
     "data": {
      "text/plain": [
       "(1000, 21)"
      ]
     },
     "execution_count": 71,
     "metadata": {},
     "output_type": "execute_result"
    }
   ],
   "source": [
    "X.shape"
   ]
  },
  {
   "cell_type": "code",
   "execution_count": 12,
   "metadata": {},
   "outputs": [],
   "source": [
    "import jax.numpy as jnp\n",
    "from jax import grad \n",
    "\n"
   ]
  },
  {
   "cell_type": "code",
   "execution_count": 92,
   "metadata": {},
   "outputs": [
    {
     "name": "stdout",
     "output_type": "stream",
     "text": [
      "making call\n"
     ]
    },
    {
     "ename": "TypeError",
     "evalue": "log_posterior() missing 4 required positional arguments: 'y', 'betas', 'mus', and 'sigmas'",
     "output_type": "error",
     "traceback": [
      "\u001b[0;31m---------------------------------------------------------------------------\u001b[0m",
      "\u001b[0;31mTypeError\u001b[0m                                 Traceback (most recent call last)",
      "\u001b[1;32m/home/joseph/Documents/m2/bayes/No-U-Turn-Sampler/tests.ipynb Cell 12'\u001b[0m in \u001b[0;36m<cell line: 8>\u001b[0;34m()\u001b[0m\n\u001b[1;32m      <a href='vscode-notebook-cell:/home/joseph/Documents/m2/bayes/No-U-Turn-Sampler/tests.ipynb#X22sZmlsZQ%3D%3D?line=2'>3</a>\u001b[0m seed \u001b[39m=\u001b[39m \u001b[39m1\u001b[39m\n\u001b[1;32m      <a href='vscode-notebook-cell:/home/joseph/Documents/m2/bayes/No-U-Turn-Sampler/tests.ipynb#X22sZmlsZQ%3D%3D?line=3'>4</a>\u001b[0m sampler \u001b[39m=\u001b[39m HamiltonianMonteCarlo(eps\u001b[39m=\u001b[39meps, L\u001b[39m=\u001b[39mL, \n\u001b[1;32m      <a href='vscode-notebook-cell:/home/joseph/Documents/m2/bayes/No-U-Turn-Sampler/tests.ipynb#X22sZmlsZQ%3D%3D?line=4'>5</a>\u001b[0m                                 logp\u001b[39m=\u001b[39mlog_posterior, grad_logp\u001b[39m=\u001b[39mgrad_logp,\n\u001b[1;32m      <a href='vscode-notebook-cell:/home/joseph/Documents/m2/bayes/No-U-Turn-Sampler/tests.ipynb#X22sZmlsZQ%3D%3D?line=5'>6</a>\u001b[0m                                 num_iterations\u001b[39m=\u001b[39m\u001b[39m1000\u001b[39m,\n\u001b[1;32m      <a href='vscode-notebook-cell:/home/joseph/Documents/m2/bayes/No-U-Turn-Sampler/tests.ipynb#X22sZmlsZQ%3D%3D?line=6'>7</a>\u001b[0m                                 seed\u001b[39m=\u001b[39mseed)\n\u001b[0;32m----> <a href='vscode-notebook-cell:/home/joseph/Documents/m2/bayes/No-U-Turn-Sampler/tests.ipynb#X22sZmlsZQ%3D%3D?line=7'>8</a>\u001b[0m sampler\u001b[39m.\u001b[39;49mrun(coefs)\n",
      "File \u001b[0;32m~/Documents/m2/bayes/No-U-Turn-Sampler/hmc.py:33\u001b[0m, in \u001b[0;36mHamiltonianMonteCarlo.run\u001b[0;34m(self, theta0)\u001b[0m\n\u001b[1;32m     <a href='file:///home/joseph/Documents/m2/bayes/No-U-Turn-Sampler/hmc.py?line=30'>31</a>\u001b[0m \u001b[39m# Leapfrog steps to generate a new state\u001b[39;00m\n\u001b[1;32m     <a href='file:///home/joseph/Documents/m2/bayes/No-U-Turn-Sampler/hmc.py?line=31'>32</a>\u001b[0m \u001b[39mfor\u001b[39;00m _ \u001b[39min\u001b[39;00m \u001b[39mrange\u001b[39m(\u001b[39mself\u001b[39m\u001b[39m.\u001b[39mL):\n\u001b[0;32m---> <a href='file:///home/joseph/Documents/m2/bayes/No-U-Turn-Sampler/hmc.py?line=32'>33</a>\u001b[0m     theta_tilde, r_tilde \u001b[39m=\u001b[39m leapfrog(theta_tilde, r_tilde,\n\u001b[1;32m     <a href='file:///home/joseph/Documents/m2/bayes/No-U-Turn-Sampler/hmc.py?line=33'>34</a>\u001b[0m                                     \u001b[39mself\u001b[39;49m\u001b[39m.\u001b[39;49mgrad_logp,\n\u001b[1;32m     <a href='file:///home/joseph/Documents/m2/bayes/No-U-Turn-Sampler/hmc.py?line=34'>35</a>\u001b[0m                                     \u001b[39mself\u001b[39;49m\u001b[39m.\u001b[39;49meps)\n\u001b[1;32m     <a href='file:///home/joseph/Documents/m2/bayes/No-U-Turn-Sampler/hmc.py?line=35'>36</a>\u001b[0m     \u001b[39m# Each step could be extracted for visualisation purposes\u001b[39;00m\n\u001b[1;32m     <a href='file:///home/joseph/Documents/m2/bayes/No-U-Turn-Sampler/hmc.py?line=36'>37</a>\u001b[0m \n\u001b[1;32m     <a href='file:///home/joseph/Documents/m2/bayes/No-U-Turn-Sampler/hmc.py?line=37'>38</a>\u001b[0m \u001b[39m# Acceptance probability\u001b[39;00m\n\u001b[1;32m     <a href='file:///home/joseph/Documents/m2/bayes/No-U-Turn-Sampler/hmc.py?line=38'>39</a>\u001b[0m alpha \u001b[39m=\u001b[39m \u001b[39mmin\u001b[39m(\u001b[39m1\u001b[39m, np\u001b[39m.\u001b[39mexp(\u001b[39mself\u001b[39m\u001b[39m.\u001b[39mlogp(theta_tilde) \u001b[39m-\u001b[39m\n\u001b[1;32m     <a href='file:///home/joseph/Documents/m2/bayes/No-U-Turn-Sampler/hmc.py?line=39'>40</a>\u001b[0m                       r_tilde \u001b[39m@\u001b[39m r_tilde \u001b[39m/\u001b[39m \u001b[39m2\u001b[39m) \u001b[39m/\u001b[39m\n\u001b[1;32m     <a href='file:///home/joseph/Documents/m2/bayes/No-U-Turn-Sampler/hmc.py?line=40'>41</a>\u001b[0m             np\u001b[39m.\u001b[39mexp(\u001b[39mself\u001b[39m\u001b[39m.\u001b[39mlogp(theta[\u001b[39m-\u001b[39m\u001b[39m1\u001b[39m]) \u001b[39m-\u001b[39m r_0 \u001b[39m@\u001b[39m r_0 \u001b[39m/\u001b[39m \u001b[39m2\u001b[39m))\n",
      "File \u001b[0;32m~/Documents/m2/bayes/No-U-Turn-Sampler/utils.py:6\u001b[0m, in \u001b[0;36mleapfrog\u001b[0;34m(theta, r, grad_logp, eps)\u001b[0m\n\u001b[1;32m      <a href='file:///home/joseph/Documents/m2/bayes/No-U-Turn-Sampler/utils.py?line=3'>4</a>\u001b[0m \u001b[39mdef\u001b[39;00m \u001b[39mleapfrog\u001b[39m(theta, r, grad_logp, eps):\n\u001b[1;32m      <a href='file:///home/joseph/Documents/m2/bayes/No-U-Turn-Sampler/utils.py?line=4'>5</a>\u001b[0m     \u001b[39m# Single update step\u001b[39;00m\n\u001b[0;32m----> <a href='file:///home/joseph/Documents/m2/bayes/No-U-Turn-Sampler/utils.py?line=5'>6</a>\u001b[0m     r_tilde \u001b[39m=\u001b[39m r \u001b[39m+\u001b[39m (eps\u001b[39m/\u001b[39m\u001b[39m2\u001b[39m)\u001b[39m*\u001b[39mgrad_logp(theta)\n\u001b[1;32m      <a href='file:///home/joseph/Documents/m2/bayes/No-U-Turn-Sampler/utils.py?line=6'>7</a>\u001b[0m     theta_tilde \u001b[39m=\u001b[39m theta \u001b[39m+\u001b[39m eps\u001b[39m*\u001b[39mr_tilde\n\u001b[1;32m      <a href='file:///home/joseph/Documents/m2/bayes/No-U-Turn-Sampler/utils.py?line=7'>8</a>\u001b[0m     r_tilde \u001b[39m+\u001b[39m\u001b[39m=\u001b[39m (eps\u001b[39m/\u001b[39m\u001b[39m2\u001b[39m)\u001b[39m*\u001b[39mgrad_logp(theta_tilde)\n",
      "\u001b[1;32m/home/joseph/Documents/m2/bayes/No-U-Turn-Sampler/tests.ipynb Cell 8'\u001b[0m in \u001b[0;36mgrad_logp\u001b[0;34m(betas)\u001b[0m\n\u001b[1;32m     <a href='vscode-notebook-cell:/home/joseph/Documents/m2/bayes/No-U-Turn-Sampler/tests.ipynb#X16sZmlsZQ%3D%3D?line=17'>18</a>\u001b[0m \u001b[39mdef\u001b[39;00m \u001b[39mgrad_logp\u001b[39m(betas):\n\u001b[1;32m     <a href='vscode-notebook-cell:/home/joseph/Documents/m2/bayes/No-U-Turn-Sampler/tests.ipynb#X16sZmlsZQ%3D%3D?line=18'>19</a>\u001b[0m     \u001b[39mprint\u001b[39m(\u001b[39m'\u001b[39m\u001b[39mmaking call\u001b[39m\u001b[39m'\u001b[39m)\n\u001b[0;32m---> <a href='vscode-notebook-cell:/home/joseph/Documents/m2/bayes/No-U-Turn-Sampler/tests.ipynb#X16sZmlsZQ%3D%3D?line=19'>20</a>\u001b[0m     \u001b[39mreturn\u001b[39;00m grad(log_posterior(betas))\n",
      "\u001b[1;32m/home/joseph/Documents/m2/bayes/No-U-Turn-Sampler/tests.ipynb Cell 8'\u001b[0m in \u001b[0;36mlog_posterior\u001b[0;34m(betas)\u001b[0m\n\u001b[1;32m     <a href='vscode-notebook-cell:/home/joseph/Documents/m2/bayes/No-U-Turn-Sampler/tests.ipynb#X16sZmlsZQ%3D%3D?line=13'>14</a>\u001b[0m \u001b[39mdef\u001b[39;00m \u001b[39mlog_posterior\u001b[39m(betas):\n\u001b[0;32m---> <a href='vscode-notebook-cell:/home/joseph/Documents/m2/bayes/No-U-Turn-Sampler/tests.ipynb#X16sZmlsZQ%3D%3D?line=14'>15</a>\u001b[0m     \u001b[39mprint\u001b[39m(grad(log_posterior_param(X, y, betas, mu, var)))\n\u001b[1;32m     <a href='vscode-notebook-cell:/home/joseph/Documents/m2/bayes/No-U-Turn-Sampler/tests.ipynb#X16sZmlsZQ%3D%3D?line=15'>16</a>\u001b[0m     \u001b[39mreturn\u001b[39;00m log_posterior_param(X, y, betas, mu, var)\n",
      "    \u001b[0;31m[... skipping hidden 9 frame]\u001b[0m\n",
      "File \u001b[0;32m~/anaconda3/envs/mml/lib/python3.8/site-packages/jax/linear_util.py:166\u001b[0m, in \u001b[0;36mWrappedFun.call_wrapped\u001b[0;34m(self, *args, **kwargs)\u001b[0m\n\u001b[1;32m    <a href='file:///home/joseph/anaconda3/envs/mml/lib/python3.8/site-packages/jax/linear_util.py?line=162'>163</a>\u001b[0m gen \u001b[39m=\u001b[39m gen_static_args \u001b[39m=\u001b[39m out_store \u001b[39m=\u001b[39m \u001b[39mNone\u001b[39;00m\n\u001b[1;32m    <a href='file:///home/joseph/anaconda3/envs/mml/lib/python3.8/site-packages/jax/linear_util.py?line=164'>165</a>\u001b[0m \u001b[39mtry\u001b[39;00m:\n\u001b[0;32m--> <a href='file:///home/joseph/anaconda3/envs/mml/lib/python3.8/site-packages/jax/linear_util.py?line=165'>166</a>\u001b[0m   ans \u001b[39m=\u001b[39m \u001b[39mself\u001b[39;49m\u001b[39m.\u001b[39;49mf(\u001b[39m*\u001b[39;49margs, \u001b[39m*\u001b[39;49m\u001b[39m*\u001b[39;49m\u001b[39mdict\u001b[39;49m(\u001b[39mself\u001b[39;49m\u001b[39m.\u001b[39;49mparams, \u001b[39m*\u001b[39;49m\u001b[39m*\u001b[39;49mkwargs))\n\u001b[1;32m    <a href='file:///home/joseph/anaconda3/envs/mml/lib/python3.8/site-packages/jax/linear_util.py?line=166'>167</a>\u001b[0m \u001b[39mexcept\u001b[39;00m:\n\u001b[1;32m    <a href='file:///home/joseph/anaconda3/envs/mml/lib/python3.8/site-packages/jax/linear_util.py?line=167'>168</a>\u001b[0m   \u001b[39m# Some transformations yield from inside context managers, so we have to\u001b[39;00m\n\u001b[1;32m    <a href='file:///home/joseph/anaconda3/envs/mml/lib/python3.8/site-packages/jax/linear_util.py?line=168'>169</a>\u001b[0m   \u001b[39m# interrupt them before reraising the exception. Otherwise they will only\u001b[39;00m\n\u001b[1;32m    <a href='file:///home/joseph/anaconda3/envs/mml/lib/python3.8/site-packages/jax/linear_util.py?line=169'>170</a>\u001b[0m   \u001b[39m# get garbage-collected at some later time, running their cleanup tasks\u001b[39;00m\n\u001b[1;32m    <a href='file:///home/joseph/anaconda3/envs/mml/lib/python3.8/site-packages/jax/linear_util.py?line=170'>171</a>\u001b[0m   \u001b[39m# only after this exception is handled, which can corrupt the global\u001b[39;00m\n\u001b[1;32m    <a href='file:///home/joseph/anaconda3/envs/mml/lib/python3.8/site-packages/jax/linear_util.py?line=171'>172</a>\u001b[0m   \u001b[39m# state.\u001b[39;00m\n\u001b[1;32m    <a href='file:///home/joseph/anaconda3/envs/mml/lib/python3.8/site-packages/jax/linear_util.py?line=172'>173</a>\u001b[0m   \u001b[39mwhile\u001b[39;00m stack:\n",
      "\u001b[0;31mTypeError\u001b[0m: log_posterior() missing 4 required positional arguments: 'y', 'betas', 'mus', and 'sigmas'"
     ]
    }
   ],
   "source": [
    "from hmc import HamiltonianMonteCarlo\n",
    "eps, L = 0.03, 20  # sampler\n",
    "seed = 1\n",
    "sampler = HamiltonianMonteCarlo(eps=eps, L=L, \n",
    "                                logp=log_posterior, grad_logp=grad_logp,\n",
    "                                num_iterations=1000,\n",
    "                                seed=seed)\n",
    "sampler.run(coefs)"
   ]
  },
  {
   "cell_type": "code",
   "execution_count": 18,
   "metadata": {},
   "outputs": [
    {
     "data": {
      "text/plain": [
       "<hmc.HamiltonianMonteCarlo at 0x7f528b5d83a0>"
      ]
     },
     "execution_count": 18,
     "metadata": {},
     "output_type": "execute_result"
    }
   ],
   "source": [
    "sampler.run()"
   ]
  },
  {
   "cell_type": "code",
   "execution_count": 7,
   "metadata": {},
   "outputs": [],
   "source": [
    "model = 'target ~ status + months + credit + purpose + amount + savings + employment + rate + sex \\\n",
    "    + other + residence + property + age + plan + housing + nb_credits + job + liability + phone \\\n",
    "        + foreign'"
   ]
  },
  {
   "cell_type": "code",
   "execution_count": 8,
   "metadata": {},
   "outputs": [],
   "source": [
    "with pm.Model() as logistic_model:\n",
    "    pm.glm.GLM.from_formula(formula=model, data=df, family=pm.glm.families.Binomial())"
   ]
  },
  {
   "cell_type": "code",
   "execution_count": 9,
   "metadata": {},
   "outputs": [
    {
     "data": {
      "text/plain": [
       "[Intercept ~ Flat,\n",
       " status ~ Normal,\n",
       " months ~ Normal,\n",
       " credit ~ Normal,\n",
       " purpose ~ Normal,\n",
       " amount ~ Normal,\n",
       " savings ~ Normal,\n",
       " employment ~ Normal,\n",
       " rate ~ Normal,\n",
       " sex ~ Normal,\n",
       " other ~ Normal,\n",
       " residence ~ Normal,\n",
       " property ~ Normal,\n",
       " age ~ Normal,\n",
       " plan ~ Normal,\n",
       " housing ~ Normal,\n",
       " nb_credits ~ Normal,\n",
       " job ~ Normal,\n",
       " liability ~ Normal,\n",
       " phone ~ Normal,\n",
       " foreign ~ Normal,\n",
       " y ~ Binomial]"
      ]
     },
     "execution_count": 9,
     "metadata": {},
     "output_type": "execute_result"
    }
   ],
   "source": [
    "logistic_model.basic_RVs"
   ]
  },
  {
   "cell_type": "code",
   "execution_count": 10,
   "metadata": {},
   "outputs": [
    {
     "name": "stderr",
     "output_type": "stream",
     "text": [
      "/tmp/ipykernel_12459/558954564.py:2: FutureWarning: In v4.0, pm.sample will return an `arviz.InferenceData` object instead of a `MultiTrace` by default. You can pass return_inferencedata=True or return_inferencedata=False to be safe and silence this warning.\n",
      "  trace = pm.sample(200)\n",
      "Only 200 samples in chain.\n",
      "Auto-assigning NUTS sampler...\n",
      "Initializing NUTS using jitter+adapt_diag...\n",
      "Multiprocess sampling (4 chains in 4 jobs)\n",
      "NUTS: [foreign, phone, liability, job, nb_credits, housing, plan, age, property, residence, other, sex, rate, employment, savings, amount, purpose, credit, months, status, Intercept]\n"
     ]
    },
    {
     "data": {
      "text/html": [
       "\n",
       "<style>\n",
       "    /* Turns off some styling */\n",
       "    progress {\n",
       "        /* gets rid of default border in Firefox and Opera. */\n",
       "        border: none;\n",
       "        /* Needs to be in here for Safari polyfill so background images work as expected. */\n",
       "        background-size: auto;\n",
       "    }\n",
       "    .progress-bar-interrupted, .progress-bar-interrupted::-webkit-progress-bar {\n",
       "        background: #F44336;\n",
       "    }\n",
       "</style>\n"
      ],
      "text/plain": [
       "<IPython.core.display.HTML object>"
      ]
     },
     "metadata": {},
     "output_type": "display_data"
    },
    {
     "data": {
      "text/html": [
       "\n",
       "    <div>\n",
       "      <progress value='0' class='' max='4800' style='width:300px; height:20px; vertical-align: middle;'></progress>\n",
       "      0.00% [0/4800 00:00<00:00 Sampling 4 chains, 0 divergences]\n",
       "    </div>\n",
       "    "
      ],
      "text/plain": [
       "<IPython.core.display.HTML object>"
      ]
     },
     "metadata": {},
     "output_type": "display_data"
    }
   ],
   "source": [
    "with logistic_model:\n",
    "    trace = pm.sample(200)"
   ]
  },
  {
   "cell_type": "code",
   "execution_count": null,
   "metadata": {},
   "outputs": [
    {
     "data": {
      "text/html": [
       "\n",
       "<style>\n",
       "    /* Turns off some styling */\n",
       "    progress {\n",
       "        /* gets rid of default border in Firefox and Opera. */\n",
       "        border: none;\n",
       "        /* Needs to be in here for Safari polyfill so background images work as expected. */\n",
       "        background-size: auto;\n",
       "    }\n",
       "    .progress-bar-interrupted, .progress-bar-interrupted::-webkit-progress-bar {\n",
       "        background: #F44336;\n",
       "    }\n",
       "</style>\n"
      ],
      "text/plain": [
       "<IPython.core.display.HTML object>"
      ]
     },
     "metadata": {},
     "output_type": "display_data"
    },
    {
     "data": {
      "text/html": [
       "\n",
       "    <div>\n",
       "      <progress value='99' class='' max='99' style='width:300px; height:20px; vertical-align: middle;'></progress>\n",
       "      100.00% [99/99 00:00<00:00 logp = -543.9, ||grad|| = 0.036817]\n",
       "    </div>\n",
       "    "
      ],
      "text/plain": [
       "<IPython.core.display.HTML object>"
      ]
     },
     "metadata": {},
     "output_type": "display_data"
    },
    {
     "name": "stdout",
     "output_type": "stream",
     "text": [
      "\n"
     ]
    },
    {
     "name": "stderr",
     "output_type": "stream",
     "text": [
      "/tmp/ipykernel_4805/211686632.py:19: FutureWarning: In v4.0, pm.sample will return an `arviz.InferenceData` object instead of a `MultiTrace` by default. You can pass return_inferencedata=True or return_inferencedata=False to be safe and silence this warning.\n",
      "  trace=pm.sample(2500, step=step, start=start)\n",
      "Multiprocess sampling (4 chains in 4 jobs)\n",
      "CompoundStep\n",
      ">Metropolis: [b]\n",
      ">Metropolis: [a]\n"
     ]
    },
    {
     "data": {
      "text/html": [
       "\n",
       "<style>\n",
       "    /* Turns off some styling */\n",
       "    progress {\n",
       "        /* gets rid of default border in Firefox and Opera. */\n",
       "        border: none;\n",
       "        /* Needs to be in here for Safari polyfill so background images work as expected. */\n",
       "        background-size: auto;\n",
       "    }\n",
       "    .progress-bar-interrupted, .progress-bar-interrupted::-webkit-progress-bar {\n",
       "        background: #F44336;\n",
       "    }\n",
       "</style>\n"
      ],
      "text/plain": [
       "<IPython.core.display.HTML object>"
      ]
     },
     "metadata": {},
     "output_type": "display_data"
    },
    {
     "data": {
      "text/html": [
       "\n",
       "    <div>\n",
       "      <progress value='0' class='' max='14000' style='width:300px; height:20px; vertical-align: middle;'></progress>\n",
       "      0.00% [0/14000 00:00<00:00 Sampling 4 chains, 0 divergences]\n",
       "    </div>\n",
       "    "
      ],
      "text/plain": [
       "<IPython.core.display.HTML object>"
      ]
     },
     "metadata": {},
     "output_type": "display_data"
    }
   ],
   "source": [
    "lower=-10**6\n",
    "higher=10**6\n",
    "with pm.Model() as model:\n",
    "    # both alpha and beta are given weak zero-mean normal prior with variance =100\n",
    "    alpha = pm.Normal('a', mu=0, sigma=np.sqrt(100))\n",
    "    beta = pm.Normal('b',mu =0, sigma=np.sqrt(100), shape=(20))\n",
    "    #beta_0=pm.Uniform('beta_0', lower=lower, upper= higher)\n",
    "    #beta_age=pm.Uniform('beta_age', lower, higher)\n",
    "    # define proba of belonging to class 1 \n",
    "    p = pm.Deterministic('p', pm.math.sigmoid(alpha+beta@df.iloc[:,:-1].T))\n",
    "\n",
    "with model:\n",
    "    #fit the data \n",
    "    observed=pm.Bernoulli(\"target\", p, observed=df['target'])\n",
    "    start= pm.find_MAP()\n",
    "    step= pm.Metropolis()\n",
    "    \n",
    "    #samples from posterior distribution \n",
    "    trace=pm.sample(2500, step=step, start=start)\n",
    "    burned_trace=trace[15000:]\n",
    "                      \n"
   ]
  }
 ],
 "metadata": {
  "interpreter": {
   "hash": "fa1944eb00f033dffadf4d497e17bb44f15a29b92256fdebb51479202b1549fa"
  },
  "kernelspec": {
   "display_name": "Python 3.8.12 ('mml')",
   "language": "python",
   "name": "python3"
  },
  "language_info": {
   "codemirror_mode": {
    "name": "ipython",
    "version": 3
   },
   "file_extension": ".py",
   "mimetype": "text/x-python",
   "name": "python",
   "nbconvert_exporter": "python",
   "pygments_lexer": "ipython3",
   "version": "3.8.12"
  },
  "orig_nbformat": 4
 },
 "nbformat": 4,
 "nbformat_minor": 2
}
