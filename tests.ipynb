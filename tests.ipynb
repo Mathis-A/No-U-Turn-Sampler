{
 "cells": [
  {
   "cell_type": "code",
   "execution_count": 1,
   "metadata": {},
   "outputs": [],
   "source": [
    "import pandas as pd\n",
    "import io\n",
    "import numpy as np\n",
    "import pymc3 as pm\n",
    "\n",
    "from sklearn.preprocessing import StandardScaler\n"
   ]
  },
  {
   "cell_type": "code",
   "execution_count": 2,
   "metadata": {},
   "outputs": [],
   "source": [
    "with open('german.data', 'r') as f:\n",
    "    data_str = f.read()\n"
   ]
  },
  {
   "cell_type": "code",
   "execution_count": 3,
   "metadata": {},
   "outputs": [
    {
     "data": {
      "text/html": [
       "<div>\n",
       "<style scoped>\n",
       "    .dataframe tbody tr th:only-of-type {\n",
       "        vertical-align: middle;\n",
       "    }\n",
       "\n",
       "    .dataframe tbody tr th {\n",
       "        vertical-align: top;\n",
       "    }\n",
       "\n",
       "    .dataframe thead th {\n",
       "        text-align: right;\n",
       "    }\n",
       "</style>\n",
       "<table border=\"1\" class=\"dataframe\">\n",
       "  <thead>\n",
       "    <tr style=\"text-align: right;\">\n",
       "      <th></th>\n",
       "      <th>status</th>\n",
       "      <th>months</th>\n",
       "      <th>credit</th>\n",
       "      <th>purpose</th>\n",
       "      <th>amount</th>\n",
       "      <th>savings</th>\n",
       "      <th>employment</th>\n",
       "      <th>rate</th>\n",
       "      <th>sex</th>\n",
       "      <th>other</th>\n",
       "      <th>...</th>\n",
       "      <th>property</th>\n",
       "      <th>age</th>\n",
       "      <th>plan</th>\n",
       "      <th>housing</th>\n",
       "      <th>nb_credits</th>\n",
       "      <th>job</th>\n",
       "      <th>liability</th>\n",
       "      <th>phone</th>\n",
       "      <th>foreign</th>\n",
       "      <th>target</th>\n",
       "    </tr>\n",
       "  </thead>\n",
       "  <tbody>\n",
       "    <tr>\n",
       "      <th>0</th>\n",
       "      <td>0</td>\n",
       "      <td>-1.235859</td>\n",
       "      <td>4</td>\n",
       "      <td>4</td>\n",
       "      <td>-0.744759</td>\n",
       "      <td>4</td>\n",
       "      <td>4</td>\n",
       "      <td>0.918018</td>\n",
       "      <td>2</td>\n",
       "      <td>0</td>\n",
       "      <td>...</td>\n",
       "      <td>0</td>\n",
       "      <td>2.765073</td>\n",
       "      <td>2</td>\n",
       "      <td>1</td>\n",
       "      <td>1.026565</td>\n",
       "      <td>2</td>\n",
       "      <td>-0.428075</td>\n",
       "      <td>1</td>\n",
       "      <td>0</td>\n",
       "      <td>0</td>\n",
       "    </tr>\n",
       "    <tr>\n",
       "      <th>1</th>\n",
       "      <td>1</td>\n",
       "      <td>2.247070</td>\n",
       "      <td>2</td>\n",
       "      <td>4</td>\n",
       "      <td>0.949342</td>\n",
       "      <td>0</td>\n",
       "      <td>2</td>\n",
       "      <td>-0.869748</td>\n",
       "      <td>1</td>\n",
       "      <td>0</td>\n",
       "      <td>...</td>\n",
       "      <td>0</td>\n",
       "      <td>-1.190808</td>\n",
       "      <td>2</td>\n",
       "      <td>1</td>\n",
       "      <td>-0.704573</td>\n",
       "      <td>2</td>\n",
       "      <td>-0.428075</td>\n",
       "      <td>0</td>\n",
       "      <td>0</td>\n",
       "      <td>1</td>\n",
       "    </tr>\n",
       "    <tr>\n",
       "      <th>2</th>\n",
       "      <td>3</td>\n",
       "      <td>-0.738298</td>\n",
       "      <td>4</td>\n",
       "      <td>7</td>\n",
       "      <td>-0.416354</td>\n",
       "      <td>0</td>\n",
       "      <td>3</td>\n",
       "      <td>-0.869748</td>\n",
       "      <td>2</td>\n",
       "      <td>0</td>\n",
       "      <td>...</td>\n",
       "      <td>0</td>\n",
       "      <td>1.182721</td>\n",
       "      <td>2</td>\n",
       "      <td>1</td>\n",
       "      <td>-0.704573</td>\n",
       "      <td>1</td>\n",
       "      <td>2.333701</td>\n",
       "      <td>0</td>\n",
       "      <td>0</td>\n",
       "      <td>0</td>\n",
       "    </tr>\n",
       "    <tr>\n",
       "      <th>3</th>\n",
       "      <td>0</td>\n",
       "      <td>1.749509</td>\n",
       "      <td>2</td>\n",
       "      <td>3</td>\n",
       "      <td>1.633430</td>\n",
       "      <td>0</td>\n",
       "      <td>3</td>\n",
       "      <td>-0.869748</td>\n",
       "      <td>2</td>\n",
       "      <td>2</td>\n",
       "      <td>...</td>\n",
       "      <td>1</td>\n",
       "      <td>0.831087</td>\n",
       "      <td>2</td>\n",
       "      <td>2</td>\n",
       "      <td>-0.704573</td>\n",
       "      <td>2</td>\n",
       "      <td>2.333701</td>\n",
       "      <td>0</td>\n",
       "      <td>0</td>\n",
       "      <td>0</td>\n",
       "    </tr>\n",
       "    <tr>\n",
       "      <th>4</th>\n",
       "      <td>0</td>\n",
       "      <td>0.256825</td>\n",
       "      <td>3</td>\n",
       "      <td>0</td>\n",
       "      <td>0.566380</td>\n",
       "      <td>0</td>\n",
       "      <td>2</td>\n",
       "      <td>0.024135</td>\n",
       "      <td>2</td>\n",
       "      <td>0</td>\n",
       "      <td>...</td>\n",
       "      <td>3</td>\n",
       "      <td>1.534354</td>\n",
       "      <td>2</td>\n",
       "      <td>2</td>\n",
       "      <td>1.026565</td>\n",
       "      <td>2</td>\n",
       "      <td>2.333701</td>\n",
       "      <td>0</td>\n",
       "      <td>0</td>\n",
       "      <td>1</td>\n",
       "    </tr>\n",
       "  </tbody>\n",
       "</table>\n",
       "<p>5 rows × 21 columns</p>\n",
       "</div>"
      ],
      "text/plain": [
       "   status    months  credit  purpose    amount  savings  employment      rate  \\\n",
       "0       0 -1.235859       4        4 -0.744759        4           4  0.918018   \n",
       "1       1  2.247070       2        4  0.949342        0           2 -0.869748   \n",
       "2       3 -0.738298       4        7 -0.416354        0           3 -0.869748   \n",
       "3       0  1.749509       2        3  1.633430        0           3 -0.869748   \n",
       "4       0  0.256825       3        0  0.566380        0           2  0.024135   \n",
       "\n",
       "   sex  other  ...  property       age  plan  housing  nb_credits  job  \\\n",
       "0    2      0  ...         0  2.765073     2        1    1.026565    2   \n",
       "1    1      0  ...         0 -1.190808     2        1   -0.704573    2   \n",
       "2    2      0  ...         0  1.182721     2        1   -0.704573    1   \n",
       "3    2      2  ...         1  0.831087     2        2   -0.704573    2   \n",
       "4    2      0  ...         3  1.534354     2        2    1.026565    2   \n",
       "\n",
       "   liability  phone  foreign  target  \n",
       "0  -0.428075      1        0       0  \n",
       "1  -0.428075      0        0       1  \n",
       "2   2.333701      0        0       0  \n",
       "3   2.333701      0        0       0  \n",
       "4   2.333701      0        0       1  \n",
       "\n",
       "[5 rows x 21 columns]"
      ]
     },
     "execution_count": 3,
     "metadata": {},
     "output_type": "execute_result"
    }
   ],
   "source": [
    "# reading file \n",
    "data = io.StringIO(data_str)\n",
    "df = pd.read_csv(data,sep=' ', header=None)\n",
    "df.columns = ['status', 'months', 'credit', 'purpose', 'amount', 'savings', 'employment', 'rate', 'sex', 'other', 'residence',\n",
    "            'property', 'age', 'plan', 'housing', 'nb_credits', 'job', 'liability', 'phone', 'foreign', 'target']\n",
    "df.loc[df['target']==1, 'target'] =0\n",
    "df.loc[df['target']==2, 'target'] =1\n",
    "\n",
    "# replace categories by integers\n",
    "std_scaler = StandardScaler()\n",
    "\n",
    "for c in df.columns[:-1]:\n",
    "    if df[c].dtype != np.int64:\n",
    "        # convert to categorical\n",
    "        df[c] = df[c].astype('category').cat.codes\n",
    "    else:\n",
    "        # normalize\n",
    "        df[c] = (df[c] -df[c].mean())/df[c].std()\n",
    "\n",
    "df.head()"
   ]
  },
  {
   "cell_type": "code",
   "execution_count": 5,
   "metadata": {},
   "outputs": [
    {
     "data": {
      "text/plain": [
       "(1000, 20)"
      ]
     },
     "execution_count": 5,
     "metadata": {},
     "output_type": "execute_result"
    }
   ],
   "source": [
    "df.iloc[:,:-1].shape"
   ]
  },
  {
   "cell_type": "code",
   "execution_count": 6,
   "metadata": {},
   "outputs": [
    {
     "data": {
      "text/plain": [
       "Index(['status', 'months', 'credit', 'purpose', 'amount', 'savings',\n",
       "       'employment', 'rate', 'sex', 'other', 'residence', 'property', 'age',\n",
       "       'plan', 'housing', 'nb_credits', 'job', 'liability', 'phone', 'foreign',\n",
       "       'target'],\n",
       "      dtype='object')"
      ]
     },
     "execution_count": 6,
     "metadata": {},
     "output_type": "execute_result"
    }
   ],
   "source": [
    "df.columns"
   ]
  },
  {
   "attachments": {},
   "cell_type": "markdown",
   "metadata": {},
   "source": [
    "Here $Y_i$ is a discrete RV that can take two values 0 and 1. Thus the Bernouilli probability model is the best candidate for the data. If we note $\\pi_i$ the probability of accepting the credit for an individual $i$, \n",
    "    $$Y_i|\\pi_i \\sim Bern(\\pi_i)$$\n",
    "    and the expected value is:\n",
    "    $$E(Y_i|\\pi_i)=\\pi$$\n",
    "\n",
    "Finally we can define a linear model where $X_i \\in \\mathbb{R}^d$ describes the features of an individual $i$ with, $\\alpha \\in \\mathbb{R}$, the intercept and $\\beta \\in \\mathbb{R}^d$ the vector of coefficients:\n",
    "$$g(\\pi_i) = \\alpha + \\beta X_i$$\n",
    "Now our goal is to write the Bernouilli mean $\\pi_i$ as a linear function of $\\alpha, \\beta$. We can assume $\\pi_i$ depends on the features $X_i$ through the logit function.  Hence :\n",
    "$$\\frac{\\pi_i}{1 - \\pi_i} = e^{\\alpha + \\beta X_i}$$ \n",
    "and\n",
    "$$\\pi_i = \\frac{e^{\\alpha + \\beta X_i}}{1 + e^{\\alpha + \\beta X_i}}$$\n",
    "\n",
    "To complete the Bayesian logistic regression model we need to specify priors on our regression parameters. Here we use zero-mean normal priors with variance $\\sigma^2 = 100$. This is a weak prior because a large variance specifies little information about the parameter. \n",
    "\n",
    "We can now use an MCMC method to approximate the posterior.\n"
   ]
  },
  {
   "cell_type": "code",
   "execution_count": 4,
   "metadata": {},
   "outputs": [],
   "source": [
    "# initialise using MLE \n",
    "from sklearn.linear_model import LogisticRegression\n",
    "X, y = df.iloc[:,:-1], df.iloc[:,-1]\n",
    "\n",
    "lr = LogisticRegression()\n",
    "lr.fit(X,y)\n",
    "alpha = lr.intercept_\n",
    "betas = lr.coef_\n"
   ]
  },
  {
   "cell_type": "code",
   "execution_count": null,
   "metadata": {},
   "outputs": [],
   "source": []
  },
  {
   "cell_type": "code",
   "execution_count": 15,
   "metadata": {},
   "outputs": [
    {
     "data": {
      "text/plain": [
       "(1, 20)"
      ]
     },
     "execution_count": 15,
     "metadata": {},
     "output_type": "execute_result"
    }
   ],
   "source": [
    "betas.shape"
   ]
  },
  {
   "cell_type": "code",
   "execution_count": 7,
   "metadata": {},
   "outputs": [],
   "source": [
    "model = 'target ~ status + months + credit + purpose + amount + savings + employment + rate + sex \\\n",
    "    + other + residence + property + age + plan + housing + nb_credits + job + liability + phone \\\n",
    "        + foreign'"
   ]
  },
  {
   "cell_type": "code",
   "execution_count": 8,
   "metadata": {},
   "outputs": [],
   "source": [
    "with pm.Model() as logistic_model:\n",
    "    pm.glm.GLM.from_formula(formula=model, data=df, family=pm.glm.families.Binomial())"
   ]
  },
  {
   "cell_type": "code",
   "execution_count": 9,
   "metadata": {},
   "outputs": [
    {
     "data": {
      "text/plain": [
       "[Intercept ~ Flat,\n",
       " status ~ Normal,\n",
       " months ~ Normal,\n",
       " credit ~ Normal,\n",
       " purpose ~ Normal,\n",
       " amount ~ Normal,\n",
       " savings ~ Normal,\n",
       " employment ~ Normal,\n",
       " rate ~ Normal,\n",
       " sex ~ Normal,\n",
       " other ~ Normal,\n",
       " residence ~ Normal,\n",
       " property ~ Normal,\n",
       " age ~ Normal,\n",
       " plan ~ Normal,\n",
       " housing ~ Normal,\n",
       " nb_credits ~ Normal,\n",
       " job ~ Normal,\n",
       " liability ~ Normal,\n",
       " phone ~ Normal,\n",
       " foreign ~ Normal,\n",
       " y ~ Binomial]"
      ]
     },
     "execution_count": 9,
     "metadata": {},
     "output_type": "execute_result"
    }
   ],
   "source": [
    "logistic_model.basic_RVs"
   ]
  },
  {
   "cell_type": "code",
   "execution_count": 10,
   "metadata": {},
   "outputs": [
    {
     "name": "stderr",
     "output_type": "stream",
     "text": [
      "/tmp/ipykernel_12459/558954564.py:2: FutureWarning: In v4.0, pm.sample will return an `arviz.InferenceData` object instead of a `MultiTrace` by default. You can pass return_inferencedata=True or return_inferencedata=False to be safe and silence this warning.\n",
      "  trace = pm.sample(200)\n",
      "Only 200 samples in chain.\n",
      "Auto-assigning NUTS sampler...\n",
      "Initializing NUTS using jitter+adapt_diag...\n",
      "Multiprocess sampling (4 chains in 4 jobs)\n",
      "NUTS: [foreign, phone, liability, job, nb_credits, housing, plan, age, property, residence, other, sex, rate, employment, savings, amount, purpose, credit, months, status, Intercept]\n"
     ]
    },
    {
     "data": {
      "text/html": [
       "\n",
       "<style>\n",
       "    /* Turns off some styling */\n",
       "    progress {\n",
       "        /* gets rid of default border in Firefox and Opera. */\n",
       "        border: none;\n",
       "        /* Needs to be in here for Safari polyfill so background images work as expected. */\n",
       "        background-size: auto;\n",
       "    }\n",
       "    .progress-bar-interrupted, .progress-bar-interrupted::-webkit-progress-bar {\n",
       "        background: #F44336;\n",
       "    }\n",
       "</style>\n"
      ],
      "text/plain": [
       "<IPython.core.display.HTML object>"
      ]
     },
     "metadata": {},
     "output_type": "display_data"
    },
    {
     "data": {
      "text/html": [
       "\n",
       "    <div>\n",
       "      <progress value='0' class='' max='4800' style='width:300px; height:20px; vertical-align: middle;'></progress>\n",
       "      0.00% [0/4800 00:00<00:00 Sampling 4 chains, 0 divergences]\n",
       "    </div>\n",
       "    "
      ],
      "text/plain": [
       "<IPython.core.display.HTML object>"
      ]
     },
     "metadata": {},
     "output_type": "display_data"
    }
   ],
   "source": [
    "with logistic_model:\n",
    "    trace = pm.sample(200)"
   ]
  },
  {
   "cell_type": "code",
   "execution_count": null,
   "metadata": {},
   "outputs": [
    {
     "data": {
      "text/html": [
       "\n",
       "<style>\n",
       "    /* Turns off some styling */\n",
       "    progress {\n",
       "        /* gets rid of default border in Firefox and Opera. */\n",
       "        border: none;\n",
       "        /* Needs to be in here for Safari polyfill so background images work as expected. */\n",
       "        background-size: auto;\n",
       "    }\n",
       "    .progress-bar-interrupted, .progress-bar-interrupted::-webkit-progress-bar {\n",
       "        background: #F44336;\n",
       "    }\n",
       "</style>\n"
      ],
      "text/plain": [
       "<IPython.core.display.HTML object>"
      ]
     },
     "metadata": {},
     "output_type": "display_data"
    },
    {
     "data": {
      "text/html": [
       "\n",
       "    <div>\n",
       "      <progress value='99' class='' max='99' style='width:300px; height:20px; vertical-align: middle;'></progress>\n",
       "      100.00% [99/99 00:00<00:00 logp = -543.9, ||grad|| = 0.036817]\n",
       "    </div>\n",
       "    "
      ],
      "text/plain": [
       "<IPython.core.display.HTML object>"
      ]
     },
     "metadata": {},
     "output_type": "display_data"
    },
    {
     "name": "stdout",
     "output_type": "stream",
     "text": [
      "\n"
     ]
    },
    {
     "name": "stderr",
     "output_type": "stream",
     "text": [
      "/tmp/ipykernel_4805/211686632.py:19: FutureWarning: In v4.0, pm.sample will return an `arviz.InferenceData` object instead of a `MultiTrace` by default. You can pass return_inferencedata=True or return_inferencedata=False to be safe and silence this warning.\n",
      "  trace=pm.sample(2500, step=step, start=start)\n",
      "Multiprocess sampling (4 chains in 4 jobs)\n",
      "CompoundStep\n",
      ">Metropolis: [b]\n",
      ">Metropolis: [a]\n"
     ]
    },
    {
     "data": {
      "text/html": [
       "\n",
       "<style>\n",
       "    /* Turns off some styling */\n",
       "    progress {\n",
       "        /* gets rid of default border in Firefox and Opera. */\n",
       "        border: none;\n",
       "        /* Needs to be in here for Safari polyfill so background images work as expected. */\n",
       "        background-size: auto;\n",
       "    }\n",
       "    .progress-bar-interrupted, .progress-bar-interrupted::-webkit-progress-bar {\n",
       "        background: #F44336;\n",
       "    }\n",
       "</style>\n"
      ],
      "text/plain": [
       "<IPython.core.display.HTML object>"
      ]
     },
     "metadata": {},
     "output_type": "display_data"
    },
    {
     "data": {
      "text/html": [
       "\n",
       "    <div>\n",
       "      <progress value='0' class='' max='14000' style='width:300px; height:20px; vertical-align: middle;'></progress>\n",
       "      0.00% [0/14000 00:00<00:00 Sampling 4 chains, 0 divergences]\n",
       "    </div>\n",
       "    "
      ],
      "text/plain": [
       "<IPython.core.display.HTML object>"
      ]
     },
     "metadata": {},
     "output_type": "display_data"
    }
   ],
   "source": [
    "lower=-10**6\n",
    "higher=10**6\n",
    "with pm.Model() as model:\n",
    "    # both alpha and beta are given weak zero-mean normal prior with variance =100\n",
    "    alpha = pm.Normal('a', mu=0, sigma=np.sqrt(100))\n",
    "    beta = pm.Normal('b',mu =0, sigma=np.sqrt(100), shape=(20))\n",
    "    #beta_0=pm.Uniform('beta_0', lower=lower, upper= higher)\n",
    "    #beta_age=pm.Uniform('beta_age', lower, higher)\n",
    "    # define proba of belonging to class 1 \n",
    "    p = pm.Deterministic('p', pm.math.sigmoid(alpha+beta@df.iloc[:,:-1].T))\n",
    "\n",
    "with model:\n",
    "    #fit the data \n",
    "    observed=pm.Bernoulli(\"target\", p, observed=df['target'])\n",
    "    start= pm.find_MAP()\n",
    "    step= pm.Metropolis()\n",
    "    \n",
    "    #samples from posterior distribution \n",
    "    trace=pm.sample(2500, step=step, start=start)\n",
    "    burned_trace=trace[15000:]\n",
    "                      \n"
   ]
  }
 ],
 "metadata": {
  "interpreter": {
   "hash": "fa1944eb00f033dffadf4d497e17bb44f15a29b92256fdebb51479202b1549fa"
  },
  "kernelspec": {
   "display_name": "Python 3.8.12 ('mml')",
   "language": "python",
   "name": "python3"
  },
  "language_info": {
   "codemirror_mode": {
    "name": "ipython",
    "version": 3
   },
   "file_extension": ".py",
   "mimetype": "text/x-python",
   "name": "python",
   "nbconvert_exporter": "python",
   "pygments_lexer": "ipython3",
   "version": "3.8.12"
  },
  "orig_nbformat": 4
 },
 "nbformat": 4,
 "nbformat_minor": 2
}
