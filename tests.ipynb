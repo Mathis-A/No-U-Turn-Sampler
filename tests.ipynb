{
 "cells": [
  {
   "cell_type": "code",
   "execution_count": 1,
   "metadata": {},
   "outputs": [],
   "source": [
    "import pandas as pd\n",
    "import io\n",
    "import pymc3 as pm"
   ]
  },
  {
   "cell_type": "code",
   "execution_count": 2,
   "metadata": {},
   "outputs": [],
   "source": [
    "with open('german.data', 'r') as f:\n",
    "    data_str = f.read()\n"
   ]
  },
  {
   "cell_type": "code",
   "execution_count": 3,
   "metadata": {},
   "outputs": [],
   "source": [
    "# reading file \n",
    "data = io.StringIO(data_str)\n",
    "df = pd.read_csv(data,sep=' ', header=None)\n",
    "df.columns = ['status', 'months', 'credit', 'purpose', 'amount', 'savings', 'employment', 'rate', 'sex', 'other', 'residence',\n",
    "            'property', 'age', 'plan', 'housing', 'nb_credits', 'job', 'liability', 'phone', 'foreign', 'target']\n",
    "df.loc[df['target']==1, 'target'] =0\n",
    "df.loc[df['target']==2, 'target'] =1"
   ]
  },
  {
   "cell_type": "code",
   "execution_count": 1,
   "metadata": {},
   "outputs": [
    {
     "ename": "NameError",
     "evalue": "name 'pm' is not defined",
     "output_type": "error",
     "traceback": [
      "\u001b[0;31m---------------------------------------------------------------------------\u001b[0m",
      "\u001b[0;31mNameError\u001b[0m                                 Traceback (most recent call last)",
      "\u001b[1;32m/home/joseph/Documents/m2/bayes/No-U-Turn-Sampler/tests.ipynb Cell 4'\u001b[0m in \u001b[0;36m<cell line: 3>\u001b[0;34m()\u001b[0m\n\u001b[1;32m      <a href='vscode-notebook-cell:/home/joseph/Documents/m2/bayes/No-U-Turn-Sampler/tests.ipynb#W5sZmlsZQ%3D%3D?line=0'>1</a>\u001b[0m lower\u001b[39m=\u001b[39m\u001b[39m-\u001b[39m\u001b[39m10\u001b[39m\u001b[39m*\u001b[39m\u001b[39m*\u001b[39m\u001b[39m8\u001b[39m\n\u001b[1;32m      <a href='vscode-notebook-cell:/home/joseph/Documents/m2/bayes/No-U-Turn-Sampler/tests.ipynb#W5sZmlsZQ%3D%3D?line=1'>2</a>\u001b[0m higher\u001b[39m=\u001b[39m\u001b[39m10\u001b[39m\u001b[39m*\u001b[39m\u001b[39m*\u001b[39m\u001b[39m8\u001b[39m\n\u001b[0;32m----> <a href='vscode-notebook-cell:/home/joseph/Documents/m2/bayes/No-U-Turn-Sampler/tests.ipynb#W5sZmlsZQ%3D%3D?line=2'>3</a>\u001b[0m \u001b[39mwith\u001b[39;00m pm\u001b[39m.\u001b[39mModel() \u001b[39mas\u001b[39;00m model:\n\u001b[1;32m      <a href='vscode-notebook-cell:/home/joseph/Documents/m2/bayes/No-U-Turn-Sampler/tests.ipynb#W5sZmlsZQ%3D%3D?line=3'>4</a>\u001b[0m     \u001b[39m# define priors\u001b[39;00m\n\u001b[1;32m      <a href='vscode-notebook-cell:/home/joseph/Documents/m2/bayes/No-U-Turn-Sampler/tests.ipynb#W5sZmlsZQ%3D%3D?line=4'>5</a>\u001b[0m     beta_0\u001b[39m=\u001b[39mpm\u001b[39m.\u001b[39mUniform(\u001b[39m'\u001b[39m\u001b[39mbeta_0\u001b[39m\u001b[39m'\u001b[39m, lower\u001b[39m=\u001b[39mlower, upper\u001b[39m=\u001b[39m higher)\n\u001b[1;32m      <a href='vscode-notebook-cell:/home/joseph/Documents/m2/bayes/No-U-Turn-Sampler/tests.ipynb#W5sZmlsZQ%3D%3D?line=5'>6</a>\u001b[0m     beta_age\u001b[39m=\u001b[39mpm\u001b[39m.\u001b[39mUniform(\u001b[39m'\u001b[39m\u001b[39mbeta_age\u001b[39m\u001b[39m'\u001b[39m, lower, higher)\n",
      "\u001b[0;31mNameError\u001b[0m: name 'pm' is not defined"
     ]
    }
   ],
   "source": [
    "\n",
    "lower=-10**8\n",
    "higher=10**8\n",
    "with pm.Model() as model:\n",
    "    # define priors\n",
    "    beta_0=pm.Uniform('beta_0', lower=lower, upper= higher)\n",
    "    beta_age=pm.Uniform('beta_age', lower, higher)\n",
    "\n",
    "    # define proba of belonging to class 1 \n",
    "    p = pm.Deterministic('p', pm.math.sigmoid(beta_0+beta_age*df['age']))\n",
    "\n",
    "with model:\n",
    "    #fit the data \n",
    "    observed=pm.Bernoulli(\"target\", p, observed=df['target'])\n",
    "    start= pm.find_MAP()\n",
    "    step= pm.Metropolis()\n",
    "    \n",
    "    #samples from posterior distribution \n",
    "    trace=pm.sample(2500, step=step, start=start)\n",
    "    burned_trace=trace[15000:]\n",
    "                      \n"
   ]
  }
 ],
 "metadata": {
  "interpreter": {
   "hash": "fa1944eb00f033dffadf4d497e17bb44f15a29b92256fdebb51479202b1549fa"
  },
  "kernelspec": {
   "display_name": "Python 3.8.12 ('mml')",
   "language": "python",
   "name": "python3"
  },
  "language_info": {
   "codemirror_mode": {
    "name": "ipython",
    "version": 3
   },
   "file_extension": ".py",
   "mimetype": "text/x-python",
   "name": "python",
   "nbconvert_exporter": "python",
   "pygments_lexer": "ipython3",
   "version": "3.8.12"
  },
  "orig_nbformat": 4
 },
 "nbformat": 4,
 "nbformat_minor": 2
}
