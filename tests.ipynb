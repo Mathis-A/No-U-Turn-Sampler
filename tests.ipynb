{
 "cells": [
  {
   "cell_type": "code",
   "execution_count": 2,
   "metadata": {},
   "outputs": [
    {
     "ename": "ImportError",
     "evalue": "cannot import name 'asscalar' from 'numpy' (/home/mathis/miniconda3/envs/asthme/lib/python3.10/site-packages/numpy/__init__.py)",
     "output_type": "error",
     "traceback": [
      "\u001b[0;31m---------------------------------------------------------------------------\u001b[0m",
      "\u001b[0;31mImportError\u001b[0m                               Traceback (most recent call last)",
      "Cell \u001b[0;32mIn [2], line 4\u001b[0m\n\u001b[1;32m      2\u001b[0m \u001b[39mimport\u001b[39;00m \u001b[39mio\u001b[39;00m\n\u001b[1;32m      3\u001b[0m \u001b[39mimport\u001b[39;00m \u001b[39mnumpy\u001b[39;00m \u001b[39mas\u001b[39;00m \u001b[39mnp\u001b[39;00m\n\u001b[0;32m----> 4\u001b[0m \u001b[39mimport\u001b[39;00m \u001b[39mpymc3\u001b[39;00m \u001b[39mas\u001b[39;00m \u001b[39mpm\u001b[39;00m\n\u001b[1;32m      6\u001b[0m \u001b[39mfrom\u001b[39;00m \u001b[39msklearn\u001b[39;00m\u001b[39m.\u001b[39;00m\u001b[39mpreprocessing\u001b[39;00m \u001b[39mimport\u001b[39;00m StandardScaler\n",
      "File \u001b[0;32m~/miniconda3/envs/asthme/lib/python3.10/site-packages/pymc3/__init__.py:5\u001b[0m\n\u001b[1;32m      2\u001b[0m __version__ \u001b[39m=\u001b[39m \u001b[39m\"\u001b[39m\u001b[39m3.8\u001b[39m\u001b[39m\"\u001b[39m\n\u001b[1;32m      4\u001b[0m \u001b[39mfrom\u001b[39;00m \u001b[39m.\u001b[39;00m\u001b[39mblocking\u001b[39;00m \u001b[39mimport\u001b[39;00m \u001b[39m*\u001b[39m\n\u001b[0;32m----> 5\u001b[0m \u001b[39mfrom\u001b[39;00m \u001b[39m.\u001b[39;00m\u001b[39mdistributions\u001b[39;00m \u001b[39mimport\u001b[39;00m \u001b[39m*\u001b[39m\n\u001b[1;32m      6\u001b[0m \u001b[39mfrom\u001b[39;00m \u001b[39m.\u001b[39;00m\u001b[39mdistributions\u001b[39;00m \u001b[39mimport\u001b[39;00m transforms\n\u001b[1;32m      7\u001b[0m \u001b[39mfrom\u001b[39;00m \u001b[39m.\u001b[39;00m\u001b[39mglm\u001b[39;00m \u001b[39mimport\u001b[39;00m \u001b[39m*\u001b[39m\n",
      "File \u001b[0;32m~/miniconda3/envs/asthme/lib/python3.10/site-packages/pymc3/distributions/__init__.py:1\u001b[0m\n\u001b[0;32m----> 1\u001b[0m \u001b[39mfrom\u001b[39;00m \u001b[39m.\u001b[39;00m \u001b[39mimport\u001b[39;00m timeseries\n\u001b[1;32m      2\u001b[0m \u001b[39mfrom\u001b[39;00m \u001b[39m.\u001b[39;00m \u001b[39mimport\u001b[39;00m transforms\n\u001b[1;32m      3\u001b[0m \u001b[39mfrom\u001b[39;00m \u001b[39m.\u001b[39;00m \u001b[39mimport\u001b[39;00m shape_utils\n",
      "File \u001b[0;32m~/miniconda3/envs/asthme/lib/python3.10/site-packages/pymc3/distributions/timeseries.py:5\u001b[0m\n\u001b[1;32m      2\u001b[0m \u001b[39mimport\u001b[39;00m \u001b[39mtheano\u001b[39;00m\u001b[39m.\u001b[39;00m\u001b[39mtensor\u001b[39;00m \u001b[39mas\u001b[39;00m \u001b[39mtt\u001b[39;00m\n\u001b[1;32m      3\u001b[0m \u001b[39mfrom\u001b[39;00m \u001b[39mtheano\u001b[39;00m \u001b[39mimport\u001b[39;00m scan\n\u001b[0;32m----> 5\u001b[0m \u001b[39mfrom\u001b[39;00m \u001b[39mpymc3\u001b[39;00m\u001b[39m.\u001b[39;00m\u001b[39mutil\u001b[39;00m \u001b[39mimport\u001b[39;00m get_variable_name\n\u001b[1;32m      6\u001b[0m \u001b[39mfrom\u001b[39;00m \u001b[39m.\u001b[39;00m\u001b[39mcontinuous\u001b[39;00m \u001b[39mimport\u001b[39;00m get_tau_sigma, Normal, Flat\n\u001b[1;32m      7\u001b[0m \u001b[39mfrom\u001b[39;00m \u001b[39m.\u001b[39;00m\u001b[39mshape_utils\u001b[39;00m \u001b[39mimport\u001b[39;00m to_tuple\n",
      "File \u001b[0;32m~/miniconda3/envs/asthme/lib/python3.10/site-packages/pymc3/util.py:3\u001b[0m\n\u001b[1;32m      1\u001b[0m \u001b[39mimport\u001b[39;00m \u001b[39mre\u001b[39;00m\n\u001b[1;32m      2\u001b[0m \u001b[39mimport\u001b[39;00m \u001b[39mfunctools\u001b[39;00m\n\u001b[0;32m----> 3\u001b[0m \u001b[39mfrom\u001b[39;00m \u001b[39mnumpy\u001b[39;00m \u001b[39mimport\u001b[39;00m asscalar\n\u001b[1;32m      5\u001b[0m LATEX_ESCAPE_RE \u001b[39m=\u001b[39m re\u001b[39m.\u001b[39mcompile(\u001b[39mr\u001b[39m\u001b[39m'\u001b[39m\u001b[39m(\u001b[39m\u001b[39m%\u001b[39m\u001b[39m|_|\u001b[39m\u001b[39m\\\u001b[39m\u001b[39m$|#|&)\u001b[39m\u001b[39m'\u001b[39m, re\u001b[39m.\u001b[39mMULTILINE)\n\u001b[1;32m      8\u001b[0m \u001b[39mdef\u001b[39;00m \u001b[39mescape_latex\u001b[39m(strng):\n",
      "\u001b[0;31mImportError\u001b[0m: cannot import name 'asscalar' from 'numpy' (/home/mathis/miniconda3/envs/asthme/lib/python3.10/site-packages/numpy/__init__.py)"
     ]
    }
   ],
   "source": [
    "import pandas as pd\n",
    "import io\n",
    "import numpy as np\n",
    "import pymc3 as pm\n",
    "\n",
    "from sklearn.preprocessing import StandardScaler\n"
   ]
  },
  {
   "cell_type": "code",
   "execution_count": 2,
   "metadata": {},
   "outputs": [],
   "source": [
    "with open('german.data', 'r') as f:\n",
    "    data_str = f.read()\n",
    "f.close()"
   ]
  },
  {
   "cell_type": "code",
   "execution_count": 3,
   "metadata": {},
   "outputs": [
    {
     "ename": "NameError",
     "evalue": "name 'StandardScaler' is not defined",
     "output_type": "error",
     "traceback": [
      "\u001b[0;31m---------------------------------------------------------------------------\u001b[0m",
      "\u001b[0;31mNameError\u001b[0m                                 Traceback (most recent call last)",
      "Cell \u001b[0;32mIn [3], line 10\u001b[0m\n\u001b[1;32m      7\u001b[0m df\u001b[39m.\u001b[39mloc[df[\u001b[39m'\u001b[39m\u001b[39mtarget\u001b[39m\u001b[39m'\u001b[39m]\u001b[39m==\u001b[39m\u001b[39m2\u001b[39m, \u001b[39m'\u001b[39m\u001b[39mtarget\u001b[39m\u001b[39m'\u001b[39m] \u001b[39m=\u001b[39m\u001b[39m1\u001b[39m\n\u001b[1;32m      9\u001b[0m \u001b[39m# replace categories by integers\u001b[39;00m\n\u001b[0;32m---> 10\u001b[0m std_scaler \u001b[39m=\u001b[39m StandardScaler()\n\u001b[1;32m     12\u001b[0m \u001b[39mfor\u001b[39;00m c \u001b[39min\u001b[39;00m df\u001b[39m.\u001b[39mcolumns:\n\u001b[1;32m     13\u001b[0m     \u001b[39mif\u001b[39;00m df[c]\u001b[39m.\u001b[39mdtype \u001b[39m!=\u001b[39m np\u001b[39m.\u001b[39mint64:\n\u001b[1;32m     14\u001b[0m         \u001b[39m# convert to categorical\u001b[39;00m\n",
      "\u001b[0;31mNameError\u001b[0m: name 'StandardScaler' is not defined"
     ]
    }
   ],
   "source": [
    "# reading file \n",
    "data = io.StringIO(data_str)\n",
    "df = pd.read_csv(data,sep=' ', header=None)\n",
    "df.columns = ['status', 'months', 'credit', 'purpose', 'amount', 'savings', 'employment', 'rate', 'sex', 'other', 'residence',\n",
    "            'property', 'age', 'plan', 'housing', 'nb_credits', 'job', 'liability', 'phone', 'foreign', 'target']\n",
    "df.loc[df['target']==1, 'target'] =-1\n",
    "df.loc[df['target']==2, 'target'] =1\n",
    "\n",
    "# replace categories by integers\n",
    "std_scaler = StandardScaler()\n",
    "\n",
    "for c in df.columns:\n",
    "    if df[c].dtype != np.int64:\n",
    "        # convert to categorical\n",
    "        df[c] = df[c].astype('category').cat.codes\n",
    "    else:\n",
    "        # normalize\n",
    "        df[c] = (df[c] -df[c].mean())/df[c].std()\n",
    "\n",
    "df.head()"
   ]
  },
  {
   "cell_type": "code",
   "execution_count": 5,
   "metadata": {},
   "outputs": [
    {
     "data": {
      "text/plain": [
       "(1000, 20)"
      ]
     },
     "execution_count": 5,
     "metadata": {},
     "output_type": "execute_result"
    }
   ],
   "source": [
    "df.iloc[:,:-1].shape"
   ]
  },
  {
   "cell_type": "code",
   "execution_count": 6,
   "metadata": {},
   "outputs": [
    {
     "data": {
      "text/plain": [
       "Index(['status', 'months', 'credit', 'purpose', 'amount', 'savings',\n",
       "       'employment', 'rate', 'sex', 'other', 'residence', 'property', 'age',\n",
       "       'plan', 'housing', 'nb_credits', 'job', 'liability', 'phone', 'foreign',\n",
       "       'target'],\n",
       "      dtype='object')"
      ]
     },
     "execution_count": 6,
     "metadata": {},
     "output_type": "execute_result"
    }
   ],
   "source": [
    "df.columns"
   ]
  },
  {
   "cell_type": "code",
   "execution_count": 7,
   "metadata": {},
   "outputs": [],
   "source": [
    "model = 'target ~ status + months + credit + purpose + amount + savings + employment + rate + sex \\\n",
    "    + other + residence + property + age + plan + housing + nb_credits + job + liability + phone \\\n",
    "        + foreign'"
   ]
  },
  {
   "cell_type": "code",
   "execution_count": 8,
   "metadata": {},
   "outputs": [],
   "source": [
    "with pm.Model() as logistic_model:\n",
    "    pm.glm.GLM.from_formula(formula=model, data=df, family=pm.glm.families.Binomial())"
   ]
  },
  {
   "cell_type": "code",
   "execution_count": 9,
   "metadata": {},
   "outputs": [
    {
     "data": {
      "text/plain": [
       "[Intercept ~ Flat,\n",
       " status ~ Normal,\n",
       " months ~ Normal,\n",
       " credit ~ Normal,\n",
       " purpose ~ Normal,\n",
       " amount ~ Normal,\n",
       " savings ~ Normal,\n",
       " employment ~ Normal,\n",
       " rate ~ Normal,\n",
       " sex ~ Normal,\n",
       " other ~ Normal,\n",
       " residence ~ Normal,\n",
       " property ~ Normal,\n",
       " age ~ Normal,\n",
       " plan ~ Normal,\n",
       " housing ~ Normal,\n",
       " nb_credits ~ Normal,\n",
       " job ~ Normal,\n",
       " liability ~ Normal,\n",
       " phone ~ Normal,\n",
       " foreign ~ Normal,\n",
       " y ~ Binomial]"
      ]
     },
     "execution_count": 9,
     "metadata": {},
     "output_type": "execute_result"
    }
   ],
   "source": [
    "logistic_model.basic_RVs"
   ]
  },
  {
   "cell_type": "code",
   "execution_count": 10,
   "metadata": {},
   "outputs": [
    {
     "name": "stderr",
     "output_type": "stream",
     "text": [
      "/tmp/ipykernel_12459/558954564.py:2: FutureWarning: In v4.0, pm.sample will return an `arviz.InferenceData` object instead of a `MultiTrace` by default. You can pass return_inferencedata=True or return_inferencedata=False to be safe and silence this warning.\n",
      "  trace = pm.sample(200)\n",
      "Only 200 samples in chain.\n",
      "Auto-assigning NUTS sampler...\n",
      "Initializing NUTS using jitter+adapt_diag...\n",
      "Multiprocess sampling (4 chains in 4 jobs)\n",
      "NUTS: [foreign, phone, liability, job, nb_credits, housing, plan, age, property, residence, other, sex, rate, employment, savings, amount, purpose, credit, months, status, Intercept]\n"
     ]
    },
    {
     "data": {
      "text/html": [
       "\n",
       "<style>\n",
       "    /* Turns off some styling */\n",
       "    progress {\n",
       "        /* gets rid of default border in Firefox and Opera. */\n",
       "        border: none;\n",
       "        /* Needs to be in here for Safari polyfill so background images work as expected. */\n",
       "        background-size: auto;\n",
       "    }\n",
       "    .progress-bar-interrupted, .progress-bar-interrupted::-webkit-progress-bar {\n",
       "        background: #F44336;\n",
       "    }\n",
       "</style>\n"
      ],
      "text/plain": [
       "<IPython.core.display.HTML object>"
      ]
     },
     "metadata": {},
     "output_type": "display_data"
    },
    {
     "data": {
      "text/html": [
       "\n",
       "    <div>\n",
       "      <progress value='0' class='' max='4800' style='width:300px; height:20px; vertical-align: middle;'></progress>\n",
       "      0.00% [0/4800 00:00<00:00 Sampling 4 chains, 0 divergences]\n",
       "    </div>\n",
       "    "
      ],
      "text/plain": [
       "<IPython.core.display.HTML object>"
      ]
     },
     "metadata": {},
     "output_type": "display_data"
    }
   ],
   "source": [
    "with logistic_model:\n",
    "    trace = pm.sample(200)"
   ]
  },
  {
   "cell_type": "code",
   "execution_count": null,
   "metadata": {},
   "outputs": [
    {
     "data": {
      "text/html": [
       "\n",
       "<style>\n",
       "    /* Turns off some styling */\n",
       "    progress {\n",
       "        /* gets rid of default border in Firefox and Opera. */\n",
       "        border: none;\n",
       "        /* Needs to be in here for Safari polyfill so background images work as expected. */\n",
       "        background-size: auto;\n",
       "    }\n",
       "    .progress-bar-interrupted, .progress-bar-interrupted::-webkit-progress-bar {\n",
       "        background: #F44336;\n",
       "    }\n",
       "</style>\n"
      ],
      "text/plain": [
       "<IPython.core.display.HTML object>"
      ]
     },
     "metadata": {},
     "output_type": "display_data"
    },
    {
     "data": {
      "text/html": [
       "\n",
       "    <div>\n",
       "      <progress value='99' class='' max='99' style='width:300px; height:20px; vertical-align: middle;'></progress>\n",
       "      100.00% [99/99 00:00<00:00 logp = -543.9, ||grad|| = 0.036817]\n",
       "    </div>\n",
       "    "
      ],
      "text/plain": [
       "<IPython.core.display.HTML object>"
      ]
     },
     "metadata": {},
     "output_type": "display_data"
    },
    {
     "name": "stdout",
     "output_type": "stream",
     "text": [
      "\n"
     ]
    },
    {
     "name": "stderr",
     "output_type": "stream",
     "text": [
      "/tmp/ipykernel_4805/211686632.py:19: FutureWarning: In v4.0, pm.sample will return an `arviz.InferenceData` object instead of a `MultiTrace` by default. You can pass return_inferencedata=True or return_inferencedata=False to be safe and silence this warning.\n",
      "  trace=pm.sample(2500, step=step, start=start)\n",
      "Multiprocess sampling (4 chains in 4 jobs)\n",
      "CompoundStep\n",
      ">Metropolis: [b]\n",
      ">Metropolis: [a]\n"
     ]
    },
    {
     "data": {
      "text/html": [
       "\n",
       "<style>\n",
       "    /* Turns off some styling */\n",
       "    progress {\n",
       "        /* gets rid of default border in Firefox and Opera. */\n",
       "        border: none;\n",
       "        /* Needs to be in here for Safari polyfill so background images work as expected. */\n",
       "        background-size: auto;\n",
       "    }\n",
       "    .progress-bar-interrupted, .progress-bar-interrupted::-webkit-progress-bar {\n",
       "        background: #F44336;\n",
       "    }\n",
       "</style>\n"
      ],
      "text/plain": [
       "<IPython.core.display.HTML object>"
      ]
     },
     "metadata": {},
     "output_type": "display_data"
    },
    {
     "data": {
      "text/html": [
       "\n",
       "    <div>\n",
       "      <progress value='0' class='' max='14000' style='width:300px; height:20px; vertical-align: middle;'></progress>\n",
       "      0.00% [0/14000 00:00<00:00 Sampling 4 chains, 0 divergences]\n",
       "    </div>\n",
       "    "
      ],
      "text/plain": [
       "<IPython.core.display.HTML object>"
      ]
     },
     "metadata": {},
     "output_type": "display_data"
    }
   ],
   "source": [
    "lower=-10**6\n",
    "higher=10**6\n",
    "with pm.Model() as model:\n",
    "    # both alpha and beta are given weak zero-mean normal prior with variance =100\n",
    "    alpha = pm.Normal('a', mu=0, sigma=np.sqrt(100))\n",
    "    beta = pm.Normal('b',mu =0, sigma=np.sqrt(100), shape=(20))\n",
    "    #beta_0=pm.Uniform('beta_0', lower=lower, upper= higher)\n",
    "    #beta_age=pm.Uniform('beta_age', lower, higher)\n",
    "    # define proba of belonging to class 1 \n",
    "    p = pm.Deterministic('p', pm.math.sigmoid(alpha+beta@df.iloc[:,:-1].T))\n",
    "\n",
    "with model:\n",
    "    #fit the data \n",
    "    observed=pm.Bernoulli(\"target\", p, observed=df['target'])\n",
    "    start= pm.find_MAP()\n",
    "    step= pm.Metropolis()\n",
    "    \n",
    "    #samples from posterior distribution \n",
    "    trace=pm.sample(2500, step=step, start=start)\n",
    "    burned_trace=trace[15000:]\n",
    "                      \n"
   ]
  }
 ],
 "metadata": {
  "kernelspec": {
   "display_name": "asthme",
   "language": "python",
   "name": "python3"
  },
  "language_info": {
   "codemirror_mode": {
    "name": "ipython",
    "version": 3
   },
   "file_extension": ".py",
   "mimetype": "text/x-python",
   "name": "python",
   "nbconvert_exporter": "python",
   "pygments_lexer": "ipython3",
   "version": "3.10.6"
  },
  "orig_nbformat": 4,
  "vscode": {
   "interpreter": {
    "hash": "2423279de906cfd710edde923f16bc015b05995c3d568630ef874fc5e8f0d2b2"
   }
  }
 },
 "nbformat": 4,
 "nbformat_minor": 2
}
